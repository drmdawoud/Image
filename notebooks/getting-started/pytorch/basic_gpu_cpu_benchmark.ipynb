{
 "cells": [
  {
   "cell_type": "markdown",
   "id": "81b46a31",
   "metadata": {},
   "source": [
    "# TUTORIAL : PyTorch basic computation using single CPU or GPU \n",
    "\n",
    "Tutorial adapted from [this PyTorch example](https://github.com/pytorch/examples/tree/master/mnist).\n",
    "\n",
    "## Introduction\n",
    "\n",
    "The aim of this tutorial is to use AI TRAINING product to train a simple model, on the [MNIST dataset](https://en.wikipedia.org/wiki/MNIST_database), with the PyTorch library and to compare performances of running it over CPU versus GPU.\n",
    "\n",
    "## Prerequities\n",
    "\n",
    "* a Public cloud project\n",
    "* an AI-TRAINING notebook job launched with the PyTorch preset image ([documentation available here](https://docs.ovh.com/gb/en/ai-training/start-use-notebooks/))\n",
    "* the notebook resources should have at least **1 GPU**"
   ]
  },
  {
   "cell_type": "markdown",
   "id": "86d90be2",
   "metadata": {},
   "source": [
    "### Step 1: Import PyTorch library"
   ]
  },
  {
   "cell_type": "code",
   "execution_count": 1,
   "id": "61c07cd0",
   "metadata": {},
   "outputs": [],
   "source": [
    "import torch\n",
    "import torch.nn as nn\n",
    "import torch.nn.functional as F\n",
    "import torch.optim as optim\n",
    "from torchvision import datasets, transforms\n",
    "from torch.optim.lr_scheduler import StepLR"
   ]
  },
  {
   "cell_type": "markdown",
   "id": "13a645be",
   "metadata": {},
   "source": [
    "### Step 2: Check that you have GPU(s) available on your notebook"
   ]
  },
  {
   "cell_type": "code",
   "execution_count": 2,
   "id": "6ba2d11e",
   "metadata": {},
   "outputs": [
    {
     "name": "stdout",
     "output_type": "stream",
     "text": [
      "cuda:0 (Tesla V100S-PCIE-32GB)\n",
      "cuda:1 (Tesla V100S-PCIE-32GB)\n"
     ]
    }
   ],
   "source": [
    "for device_index in range(torch.cuda.device_count()):\n",
    "    device = 'cuda:{}'.format(device_index)\n",
    "    device_name = torch.cuda.get_device_name(device)\n",
    "    print('{} ({})'.format(device, device_name))"
   ]
  },
  {
   "cell_type": "markdown",
   "id": "caf1768f",
   "metadata": {},
   "source": [
    "### Step 3: Declare the neural network to train"
   ]
  },
  {
   "cell_type": "code",
   "execution_count": 3,
   "id": "b2b1c7e6",
   "metadata": {},
   "outputs": [],
   "source": [
    "class Net(nn.Module):\n",
    "    def __init__(self):\n",
    "        super(Net, self).__init__()\n",
    "        self.conv1 = nn.Conv2d(1, 32, 3, 1)\n",
    "        self.conv2 = nn.Conv2d(32, 64, 3, 1)\n",
    "        self.dropout1 = nn.Dropout(0.25)\n",
    "        self.dropout2 = nn.Dropout(0.5)\n",
    "        self.fc1 = nn.Linear(9216, 2048)\n",
    "        self.fc2 = nn.Linear(2048, 10)\n",
    "\n",
    "    def forward(self, x):\n",
    "        x = self.conv1(x)\n",
    "        x = F.relu(x)\n",
    "        x = self.conv2(x)\n",
    "        x = F.relu(x)\n",
    "        x = F.max_pool2d(x, 2)\n",
    "        x = self.dropout1(x)\n",
    "        x = torch.flatten(x, 1)\n",
    "        x = self.fc1(x)\n",
    "        x = F.relu(x)\n",
    "        x = self.dropout2(x)\n",
    "        x = self.fc2(x)\n",
    "        output = F.log_softmax(x, dim=1)\n",
    "        return output"
   ]
  },
  {
   "cell_type": "markdown",
   "id": "ac5fb592",
   "metadata": {},
   "source": [
    "### Step 4: Declare train and test functions"
   ]
  },
  {
   "cell_type": "code",
   "execution_count": 4,
   "id": "29bc8bb4",
   "metadata": {},
   "outputs": [],
   "source": [
    "def train(model, device, train_loader, test_loader, lr=1.0, gamma=0.7):\n",
    "    print()\n",
    "    print('Train {}'.format(device))\n",
    "    optimizer = optim.Adadelta(model.parameters(), lr=lr)\n",
    "    scheduler = StepLR(optimizer, step_size=1, gamma=gamma)\n",
    "    for epoch in range(1, epochs + 1):\n",
    "        train_one_epoch(model, device, train_loader, optimizer, epoch)\n",
    "        test(model, device, test_loader)\n",
    "        scheduler.step()\n",
    "\n",
    "def train_one_epoch(model, device, train_loader, optimizer, epoch):\n",
    "    losses = []\n",
    "    model.train()\n",
    "    for batch_idx, (data, target) in enumerate(train_loader):\n",
    "        data, target = data.to(device), target.to(device)\n",
    "        optimizer.zero_grad()\n",
    "        output = model(data)\n",
    "        loss = F.nll_loss(output, target)\n",
    "        loss.backward()\n",
    "        optimizer.step()\n",
    "        losses.append(loss.item())\n",
    "        if batch_idx % 50 == 0:\n",
    "            print('Train Epoch: {} [{}/{} ({:.0f}%)]\\tLoss: {:.6f}'.format(\n",
    "                epoch, batch_idx * len(data), len(train_loader.dataset),\n",
    "                100. * batch_idx / len(train_loader), loss.item()))\n",
    "    return losses\n",
    "                \n",
    "\n",
    "def test(model, device, test_loader):\n",
    "    model.eval()\n",
    "    test_loss = 0\n",
    "    correct = 0\n",
    "    with torch.no_grad():\n",
    "        for data, target in test_loader:\n",
    "            data, target = data.to(device), target.to(device)\n",
    "            output = model(data)\n",
    "            test_loss += F.nll_loss(output, target, reduction='sum').item()  # sum up batch loss\n",
    "            pred = output.argmax(dim=1, keepdim=True)  # get the index of the max log-probability\n",
    "            correct += pred.eq(target.view_as(pred)).sum().item()\n",
    "\n",
    "    test_loss /= len(test_loader.dataset)\n",
    "\n",
    "    print('\\nTest set: Average loss: {:.4f}, Accuracy: {}/{} ({:.0f}%)\\n'.format(\n",
    "        test_loss, correct, len(test_loader.dataset),\n",
    "        100. * correct / len(test_loader.dataset)))"
   ]
  },
  {
   "cell_type": "markdown",
   "id": "10522a43",
   "metadata": {},
   "source": [
    "### Step 5: Load MNIST dataset"
   ]
  },
  {
   "cell_type": "code",
   "execution_count": 5,
   "id": "f0eda36b",
   "metadata": {},
   "outputs": [],
   "source": [
    "transform=transforms.Compose([\n",
    "    transforms.ToTensor(),\n",
    "    transforms.Normalize((0.1307,), (0.3081,))\n",
    "])\n",
    "dataset1 = datasets.MNIST('/workspace/data', train=True, download=True, transform=transform)\n",
    "dataset2 = datasets.MNIST('/workspace/data', train=False, transform=transform)"
   ]
  },
  {
   "cell_type": "markdown",
   "id": "0cc0aa67",
   "metadata": {},
   "source": [
    "### Step 6: Train model on CPU, mono GPU and multi GPU\n",
    "\n",
    "We will train our model for only one epoch to make the benchmark run fast but you can increase this value."
   ]
  },
  {
   "cell_type": "code",
   "execution_count": 6,
   "id": "e65ce0f5",
   "metadata": {},
   "outputs": [
    {
     "name": "stdout",
     "output_type": "stream",
     "text": [
      "\n",
      "Train cpu\n",
      "Train Epoch: 1 [0/60000 (0%)]\tLoss: 2.311231\n",
      "Train Epoch: 1 [6400/60000 (11%)]\tLoss: 0.214085\n",
      "Train Epoch: 1 [12800/60000 (21%)]\tLoss: 0.106479\n",
      "Train Epoch: 1 [19200/60000 (32%)]\tLoss: 0.162200\n",
      "Train Epoch: 1 [25600/60000 (43%)]\tLoss: 0.102743\n",
      "Train Epoch: 1 [32000/60000 (53%)]\tLoss: 0.095246\n",
      "Train Epoch: 1 [38400/60000 (64%)]\tLoss: 0.109073\n",
      "Train Epoch: 1 [44800/60000 (75%)]\tLoss: 0.085060\n",
      "Train Epoch: 1 [51200/60000 (85%)]\tLoss: 0.165109\n",
      "Train Epoch: 1 [57600/60000 (96%)]\tLoss: 0.093700\n",
      "\n",
      "Test set: Average loss: 0.0535, Accuracy: 9838/10000 (98%)\n",
      "\n",
      "\n",
      "Train cuda:0\n",
      "Train Epoch: 1 [0/60000 (0%)]\tLoss: 2.312587\n",
      "Train Epoch: 1 [6400/60000 (11%)]\tLoss: 0.250234\n",
      "Train Epoch: 1 [12800/60000 (21%)]\tLoss: 0.167736\n",
      "Train Epoch: 1 [19200/60000 (32%)]\tLoss: 0.092922\n",
      "Train Epoch: 1 [25600/60000 (43%)]\tLoss: 0.104296\n",
      "Train Epoch: 1 [32000/60000 (53%)]\tLoss: 0.114919\n",
      "Train Epoch: 1 [38400/60000 (64%)]\tLoss: 0.140233\n",
      "Train Epoch: 1 [44800/60000 (75%)]\tLoss: 0.064833\n",
      "Train Epoch: 1 [51200/60000 (85%)]\tLoss: 0.158359\n",
      "Train Epoch: 1 [57600/60000 (96%)]\tLoss: 0.075037\n",
      "\n",
      "Test set: Average loss: 0.0482, Accuracy: 9836/10000 (98%)\n",
      "\n",
      "CPU took 169.03s\n",
      "GPU took 13.31s\n",
      "GPU is 12.7x times faster than CPU to train this model\n"
     ]
    }
   ],
   "source": [
    "import timeit\n",
    "\n",
    "# Input batch size for training\n",
    "batch_size = 128\n",
    "# Input batch size for testing\n",
    "test_batch_size = 1000\n",
    "# Number of epochs to train\n",
    "epochs = 1\n",
    "\n",
    "train_loader = torch.utils.data.DataLoader(dataset1, batch_size=batch_size)\n",
    "test_loader = torch.utils.data.DataLoader(dataset2, batch_size=test_batch_size)\n",
    "\n",
    "# CPU benchmark\n",
    "device = 'cpu'\n",
    "model = Net().to(device)\n",
    "variables = {\n",
    "    'model': model, 'device': device, 'train_loader': train_loader, 'test_loader': test_loader,\n",
    "}\n",
    "cpu_time = timeit.timeit(f'train(model, device, train_loader, test_loader)', globals=variables, number=1, setup=\"from __main__ import train\")\n",
    "\n",
    "# GPU benchmark\n",
    "device = 'cuda:0'\n",
    "model = Net().to(device)\n",
    "variables = {\n",
    "    'model': model, 'device': device, 'train_loader': train_loader, 'test_loader': test_loader,\n",
    "}\n",
    "gpu_time = timeit.timeit(f'train(model, device, train_loader, test_loader)', globals=variables, number=1, setup=\"from __main__ import train\")\n",
    "\n",
    "# Results\n",
    "print('CPU took {:.2f}s'.format(cpu_time))\n",
    "print('GPU took {:.2f}s'.format(gpu_time))\n",
    "print('GPU is {:.1f}x times faster than CPU to train this model'.format(cpu_time / gpu_time))"
   ]
  },
  {
   "cell_type": "markdown",
   "id": "44e832fb",
   "metadata": {},
   "source": [
    "### Conclusion\n",
    "\n",
    "This model train faster on GPU, it is small and the gap between CPU and GPU will be even greater with bigger models."
   ]
  },
  {
   "cell_type": "markdown",
   "id": "650c42db",
   "metadata": {},
   "source": [
    "### Going further\n",
    "\n",
    "* For more information about running computations with PyTorch we advise you to follow the [official documentation](https://pytorch.org/docs/stable/index.html).\n",
    "* Resource consumption of your notebook is displayed in a dashboard that you can see. Just execute the following cells to get the URL corresponding to your notebook session. The credencials needed to access this dashboard are the same than those used for the current notebook."
   ]
  },
  {
   "cell_type": "code",
   "execution_count": null,
   "id": "0e792f6c",
   "metadata": {},
   "outputs": [],
   "source": [
    "import os\n",
    "\n",
    "if 'NOTEBOOK_ID' in os.environ:\n",
    "    VARID = \"var-notebook=\" + os.environ['NOTEBOOK_ID']\n",
    "    HOST = os.environ['NOTEBOOK_HOST']\n",
    "    SUBDOMAIN = \"notebook\"\n",
    "else:\n",
    "    VARID =  \"var-job=\" + os.environ['JOB_ID']\n",
    "    HOST = os.environ['JOB_HOST']\n",
    "    SUBDOMAIN = \"job\"\n",
    "\n",
    "\n",
    "print(f'Your resource monitoring dashboard URL is :')\n",
    "print(f'http://{HOST.replace(SUBDOMAIN, \"monitoring\")}/d/gpu/job-monitoring?orgId=1&from=now-5m&{VARID}&to=now')"
   ]
  },
  {
   "cell_type": "code",
   "execution_count": null,
   "id": "237b416f",
   "metadata": {},
   "outputs": [],
   "source": []
  }
 ],
 "metadata": {
  "kernelspec": {
   "display_name": "Conda",
   "language": "python",
   "name": "python3"
  },
  "language_info": {
   "codemirror_mode": {
    "name": "ipython",
    "version": 3
   },
   "file_extension": ".py",
   "mimetype": "text/x-python",
   "name": "python",
   "nbconvert_exporter": "python",
   "pygments_lexer": "ipython3",
   "version": "3.8.10"
  }
 },
 "nbformat": 4,
 "nbformat_minor": 5
}
